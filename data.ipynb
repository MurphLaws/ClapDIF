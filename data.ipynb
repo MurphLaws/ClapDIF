{
 "cells": [
  {
   "cell_type": "code",
   "execution_count": 50,
   "metadata": {},
   "outputs": [
    {
     "name": "stdout",
     "output_type": "stream",
     "text": [
      "[581, 2609, 3415, 3925, 5567, 6245, 6441, 8332, 10998, 11331, 11730, 12803, 13709, 13738, 14446, 14625, 16332, 16953, 17011, 17371, 17397, 18848, 24251, 25470, 28203, 28455, 28779, 29259, 30362, 30601, 31018, 31886, 32736, 33121, 33162, 34147, 36926, 37339, 37548, 37732, 38888, 38946, 44308, 44913, 45556, 46117, 46565, 47898, 48520, 48539]\n"
     ]
    },
    {
     "data": {
      "text/plain": [
       "<matplotlib.image.AxesImage at 0x7f0a23d30550>"
      ]
     },
     "execution_count": 50,
     "metadata": {},
     "output_type": "execute_result"
    },
    {
     "data": {
      "image/png": "[encoded data removed]",
      "text/plain": [
       "<Figure size 432x288 with 1 Axes>"
      ]
     },
     "metadata": {
      "needs_background": "light"
     },
     "output_type": "display_data"
    }
   ],
   "source": [
    "\n",
    "#Extract the data from the ImageNet dataset and save the images\n",
    "\n",
    "import os\n",
    "import shutil\n",
    "import random\n",
    "import numpy as np\n",
    "import matplotlib.pyplot as plt\n",
    "from PIL import Image\n",
    "from tqdm import tqdm\n",
    "import pickle\n",
    "import torch\n",
    "\n",
    "# Extract the images from the ImageNet binary file (single file) from the following path\n",
    "\n",
    "\n",
    "\n",
    "with open(\"/users/nicolass80/Documents/PoisonFrogs/Imagenet32_val/val_data\", \"rb\") as f:\n",
    "    data = pickle.load(f)\n",
    "\n",
    "\n",
    "labels = data[\"labels\"]\n",
    "images = data[\"data\"]\n",
    "\n",
    "wolf_idx = [idx for idx, label in enumerate(labels) if label == 318]\n",
    "wolf_images = images[1]\n",
    "\n",
    "def restore_image(arr):\n",
    "    red_channel = arr[:1024].reshape(32, 32)\n",
    "    green_channel = arr[1024:2048].reshape(32, 32)\n",
    "    blue_channel = arr[2048:].reshape(32, 32)\n",
    "\n",
    "    img = np.dstack((red_channel, green_channel, blue_channel))\n",
    "    return img.astype(np.uint8)\n",
    "\n",
    "\n",
    "\n",
    "print(wolf_idx)\n",
    "\n",
    "plt.imshow(restore_image(images[581]))"
   ]
  },
  {
   "cell_type": "code",
   "execution_count": 38,
   "metadata": {},
   "outputs": [
    {
     "data": {
      "text/plain": [
       "<matplotlib.image.AxesImage at 0x7f0ad880f430>"
      ]
     },
     "execution_count": 38,
     "metadata": {},
     "output_type": "execute_result"
    },
    {
     "data": {
      "image/png": "[encoded data removed]",
      "text/plain": [
       "<Figure size 432x288 with 1 Axes>"
      ]
     },
     "metadata": {
      "needs_background": "light"
     },
     "output_type": "display_data"
    }
   ],
   "source": [
    "with open(\"map_clsloc.txt\") as f:\n",
    "    dataset_map = f.readlines()\n",
    "    dataset_map = [x.strip() for x in dataset_map]\n",
    "    dataset_map = [x.split(\" \") for x in dataset_map]\n",
    "    dataset_map = {x[0]: [x[1],x[2]] for x in dataset_map}\n",
    "\n",
    "#Give me all the dic keys that start n0208\n",
    "\n",
    "#n07742313 318 Granny_Smith\n",
    "#n02114367 205 timber_wolf\n",
    "\n",
    "\n",
    "#Save all the images from the vector images that belong to the class 318 (apple) or 205 (wolf)\n",
    "\n",
    "#Create a folder for the images\n",
    "if not os.path.exists(\"/users/nicolass80/Documents/Imagenet32_val/val_images\"):\n",
    "    os.makedirs(\"/users/nicolass80/Documents/Imagenet32_val/val_images\")\n",
    "\n",
    "\n",
    "apple_images= images[[idx for idx, label in enumerate(labels) if label == 318]]\n",
    "apple_images = np.array([restore_image(x) for x in apple_images])\n",
    "\n",
    "\n",
    "wolf_images= images[[idx for idx, label in enumerate(labels) if label == 205]]\n",
    "wolf_images = np.array([restore_image(x) for x in wolf_images])\n",
    "\n",
    "plt.imshow(wolf_images[1])\n"
   ]
  },
  {
   "cell_type": "code",
   "execution_count": 42,
   "metadata": {},
   "outputs": [],
   "source": [
    "#Save all the images on the wolg_images and apple_images vectors on the /users/nicolass80/Documents/Imagenet32_val/val_images folder\n",
    "\n",
    "for idx, image in enumerate(apple_images):\n",
    "    im = Image.fromarray(image)\n",
    "    im.save(\"/users/nicolass80/Documents/Imagenet32_val/val_images/apple{}.png\".format(idx))\n",
    "\n"
   ]
  },
  {
   "cell_type": "code",
   "execution_count": 75,
   "metadata": {},
   "outputs": [
    {
     "name": "stderr",
     "output_type": "stream",
     "text": [
      "Clipping input data to the valid range for imshow with RGB data ([0..1] for floats or [0..255] for integers).\n"
     ]
    },
    {
     "data": {
      "text/plain": [
       "<matplotlib.image.AxesImage at 0x7f0aca2d48b0>"
      ]
     },
     "execution_count": 75,
     "metadata": {},
     "output_type": "execute_result"
    },
    {
     "data": {
      "image/png": "[encoded data removed]",
      "text/plain": [
       "<Figure size 432x288 with 1 Axes>"
      ]
     },
     "metadata": {
      "needs_background": "light"
     },
     "output_type": "display_data"
    }
   ],
   "source": [
    "\n",
    "path = '/users/nicolass80/Documents/poison_froggo/poison_frog/datasets/attack_images'\n",
    "\n",
    "img = torch.load(path)\n",
    "\n",
    "img = img.detach().numpy()\n",
    "\n",
    "plt.imshow(img[20].transpose(1,2,0))"
   ]
  }
 ],
 "metadata": {
  "kernelspec": {
   "display_name": "Python 3",
   "language": "python",
   "name": "python3"
  },
  "language_info": {
   "codemirror_mode": {
    "name": "ipython",
    "version": 3
   },
   "file_extension": ".py",
   "mimetype": "text/x-python",
   "name": "python",
   "nbconvert_exporter": "python",
   "pygments_lexer": "ipython3",
   "version": "3.10.12"
  },
  "orig_nbformat": 4
 },
 "nbformat": 4,
 "nbformat_minor": 2
}
