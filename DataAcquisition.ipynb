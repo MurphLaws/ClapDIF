{
 "cells": [
  {
   "cell_type": "code",
   "execution_count": 1,
   "id": "d5181938",
   "metadata": {
    "_cell_guid": "b1076dfc-b9ad-4769-8c92-a6c4dae69d19",
    "_uuid": "8f2839f25d086af736a60e9eeb907d3b93b6e0e5",
    "execution": {
     "iopub.execute_input": "2023-10-23T09:05:53.664707Z",
     "iopub.status.busy": "2023-10-23T09:05:53.664150Z",
     "iopub.status.idle": "2023-10-23T09:06:23.598110Z",
     "shell.execute_reply": "2023-10-23T09:06:23.596023Z"
    },
    "papermill": {
     "duration": 29.941742,
     "end_time": "2023-10-23T09:06:23.601609",
     "exception": false,
     "start_time": "2023-10-23T09:05:53.659867",
     "status": "completed"
    },
    "tags": []
   },
   "outputs": [
    {
     "name": "stdout",
     "output_type": "stream",
     "text": [
      "Las imágenes se han guardado en n02114367.pkl\n",
      "Las imágenes se han guardado en n07742313.pkl\n"
     ]
    }
   ],
   "source": [
    "# This Python 3 environment comes with many helpful analytics libraries installed\n",
    "# It is defined by the kaggle/python Docker image: https://github.com/kaggle/docker-python\n",
    "# For example, here's several helpful packages to load\n",
    "\n",
    "\n",
    "import os\n",
    "import numpy as np # linear algebra\n",
    "import pandas as pd # data processing, CSV file I/O (e.g. pd.read_csv)\n",
    "from PIL import Image\n",
    "import pickle\n",
    "\n",
    "# Input data files are available in the read-only \"../input/\" directory\n",
    "# For example, running this (by clicking run or pressing Shift+Enter) will list all files under the input directory\n",
    "\n",
    "# You can write up to 20GB to the current directory (/kaggle/working/) that gets preserved as output when you create a version using \"Save & Run All\" \n",
    "# You can also write temporary files to /kaggle/temp/, but they won't be saved outside of the current session\n",
    "\n",
    "\n",
    "synsetList = ['n02114367','n07742313']\n",
    "\n",
    "PATH = '/kaggle/input/imagenet-object-localization-challenge/ILSVRC/Data/CLS-LOC/train/'\n",
    "\n",
    "image_paths = []\n",
    "for synset_id in synsetList:\n",
    "    synset_folder = os.listdir(PATH + synset_id) \n",
    "    synset_path = PATH + synset_id\n",
    "    \n",
    "    image_paths.append([synset_path+\"/\"+i for i in synset_folder])\n",
    "    \n",
    "\n",
    "    \n",
    "#Recorre las rutas y carga las imágenes\n",
    "synset_loaded = []\n",
    "for path_list in image_paths:\n",
    "    images = []\n",
    "    for path in path_list:\n",
    "        try:\n",
    "            image = Image.open(path)\n",
    "            images.append(image)\n",
    "        except Exception as e:\n",
    "            print(f\"No se pudo cargar la imagen en {path}: {e}\")\n",
    "    synset_loaded.append(images)\n",
    "        \n",
    " \n",
    "\n",
    "\n",
    "\n",
    "for idx, synset in enumerate(synset_loaded):\n",
    "    output_file = synsetList[idx]+\".pkl\"\n",
    "    with open(output_file, 'wb') as f:\n",
    "        pickle.dump(synset, f)\n",
    "    print(f\"Las imágenes se han guardado en {output_file}\")\n",
    "\n",
    "\n",
    "\n",
    "\n",
    "\n",
    "\n",
    "\n"
   ]
  }
 ],
 "metadata": {
  "kernelspec": {
   "display_name": "Python 3",
   "language": "python",
   "name": "python3"
  },
  "language_info": {
   "codemirror_mode": {
    "name": "ipython",
    "version": 3
   },
   "file_extension": ".py",
   "mimetype": "text/x-python",
   "name": "python",
   "nbconvert_exporter": "python",
   "pygments_lexer": "ipython3",
   "version": "3.10.12"
  },
  "papermill": {
   "default_parameters": {},
   "duration": 35.650085,
   "end_time": "2023-10-23T09:06:24.327780",
   "environment_variables": {},
   "exception": null,
   "input_path": "__notebook__.ipynb",
   "output_path": "__notebook__.ipynb",
   "parameters": {},
   "start_time": "2023-10-23T09:05:48.677695",
   "version": "2.4.0"
  }
 },
 "nbformat": 4,
 "nbformat_minor": 5
}
